{
  "nbformat": 4,
  "nbformat_minor": 0,
  "metadata": {
    "colab": {
      "name": "Clase 1 - Introducción a la materia.ipynb",
      "provenance": [],
      "authorship_tag": "ABX9TyNkMIbihGHfD6F2kWswdYzx",
      "include_colab_link": true
    },
    "kernelspec": {
      "name": "python3",
      "display_name": "Python 3"
    },
    "language_info": {
      "name": "python"
    }
  },
  "cells": [
    {
      "cell_type": "markdown",
      "metadata": {
        "id": "view-in-github",
        "colab_type": "text"
      },
      "source": [
        "<a href=\"https://colab.research.google.com/github/fernandopaz1/Ciencia-de-Datos/blob/main/Clases/Clase_1_Introducci%C3%B3n_a_la_materia.ipynb\" target=\"_parent\"><img src=\"https://colab.research.google.com/assets/colab-badge.svg\" alt=\"Open In Colab\"/></a>"
      ]
    },
    {
      "cell_type": "markdown",
      "metadata": {
        "id": "X6HKp2CgX7qk"
      },
      "source": [
        "Este es  un notebook en el que vemos lo basico de como trabajar en colab"
      ]
    },
    {
      "cell_type": "markdown",
      "metadata": {
        "id": "m3_pM9hcYKiF"
      },
      "source": [
        "La idea es que trabajamos con ciertos datos subidos a google drive y mediante la libreria de google montamos el drive como si fuera un disco externo. Una vez montado accedemos a los archivos guardados en el drive mediante el path relativo a root"
      ]
    },
    {
      "cell_type": "code",
      "metadata": {
        "colab": {
          "base_uri": "https://localhost:8080/"
        },
        "id": "jfFIpB8eYHyC",
        "outputId": "ad3c49ed-35b3-4285-c95c-a48a0eebbacb"
      },
      "source": [
        "from google.colab import drive\n",
        "drive.mount('/content/drive')"
      ],
      "execution_count": null,
      "outputs": [
        {
          "output_type": "stream",
          "text": [
            "Mounted at /content/drive\n"
          ],
          "name": "stdout"
        }
      ]
    },
    {
      "cell_type": "markdown",
      "metadata": {
        "id": "NaAnmTm8YsXz"
      },
      "source": [
        "Al correr estas lineas debemos dar la confirmación introduciendo un codigo que da acceso al drive.\n",
        "\n",
        "El archivo que buscamos esta en la direccion filename = '/content/drive/My Drive/LaboDatos2021/ejemplo_clase_1.txt' "
      ]
    },
    {
      "cell_type": "code",
      "metadata": {
        "colab": {
          "base_uri": "https://localhost:8080/"
        },
        "id": "fAs9Sb3VY6HG",
        "outputId": "b97279da-76e6-48e1-cb76-0f9e2bf44820"
      },
      "source": [
        "filename = '/content/drive/My Drive/LaboDatos2021/ejemplo_clase_1.txt' \n",
        "f = open(filename, \"r\")\n",
        "print(f.read())"
      ],
      "execution_count": null,
      "outputs": [
        {
          "output_type": "stream",
          "text": [
            "O God, I could be bounded in a nutshell\n",
            "and count myself a King of infinite space.\n",
            "Hamlet, II, 2\n"
          ],
          "name": "stdout"
        }
      ]
    },
    {
      "cell_type": "code",
      "metadata": {
        "id": "EVPq3F4sZVgY"
      },
      "source": [
        ""
      ],
      "execution_count": null,
      "outputs": []
    }
  ]
}