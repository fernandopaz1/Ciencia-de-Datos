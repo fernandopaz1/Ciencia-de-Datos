{
  "nbformat": 4,
  "nbformat_minor": 0,
  "metadata": {
    "colab": {
      "name": "datosCovid_FrontendCafe.ipynb",
      "provenance": [],
      "collapsed_sections": [],
      "authorship_tag": "ABX9TyNfF/sxhmTI7/dyvJ4q+lW2",
      "include_colab_link": true
    },
    "kernelspec": {
      "name": "python3",
      "display_name": "Python 3"
    },
    "language_info": {
      "name": "python"
    }
  },
  "cells": [
    {
      "cell_type": "markdown",
      "metadata": {
        "id": "view-in-github",
        "colab_type": "text"
      },
      "source": [
        "<a href=\"https://colab.research.google.com/github/fernandopaz1/Ciencia-de-Datos/blob/main/datosCovid_FrontendCafe.ipynb\" target=\"_parent\"><img src=\"https://colab.research.google.com/assets/colab-badge.svg\" alt=\"Open In Colab\"/></a>"
      ]
    },
    {
      "cell_type": "code",
      "metadata": {
        "colab": {
          "base_uri": "https://localhost:8080/"
        },
        "id": "oKfFzqna0zbh",
        "outputId": "6206b9c5-4080-4a9d-9f2a-9be5f6812d55"
      },
      "source": [
        "from google.colab import drive\n",
        "drive.mount('/content/drive')"
      ],
      "execution_count": 78,
      "outputs": [
        {
          "output_type": "stream",
          "text": [
            "Drive already mounted at /content/drive; to attempt to forcibly remount, call drive.mount(\"/content/drive\", force_remount=True).\n"
          ],
          "name": "stdout"
        }
      ]
    },
    {
      "cell_type": "code",
      "metadata": {
        "id": "SZByb14p1GHH"
      },
      "source": [
        "import pandas as pd"
      ],
      "execution_count": 79,
      "outputs": []
    },
    {
      "cell_type": "code",
      "metadata": {
        "id": "H1GKl6Ct6Ekj"
      },
      "source": [
        "import numpy as np\n",
        "import matplotlib.pyplot as plt\n"
      ],
      "execution_count": 80,
      "outputs": []
    },
    {
      "cell_type": "code",
      "metadata": {
        "colab": {
          "base_uri": "https://localhost:8080/"
        },
        "id": "pAIe1DnF4X9k",
        "outputId": "8d73fa28-011f-40f4-fd58-19b9a7d76215"
      },
      "source": [
        "filename = '/content/drive/My Drive/DatosFrontendCafe/casos_covid19.csv' \n",
        "datos = pd.read_table(filename, sep=',')  # leyendo datos\n",
        "\n",
        "# Tip del día: ver bien cual es el separador "
      ],
      "execution_count": 81,
      "outputs": [
        {
          "output_type": "stream",
          "text": [
            "/usr/local/lib/python3.7/dist-packages/IPython/core/interactiveshell.py:2822: DtypeWarning: Columns (10,11,13) have mixed types.Specify dtype option on import or set low_memory=False.\n",
            "  if self.run_code(code, result):\n"
          ],
          "name": "stderr"
        }
      ]
    },
    {
      "cell_type": "code",
      "metadata": {
        "id": "UgYZoMx34_Vq"
      },
      "source": [
        "df = pd.DataFrame(datos)   # Poniendolos en un dataframe"
      ],
      "execution_count": 82,
      "outputs": []
    },
    {
      "cell_type": "code",
      "metadata": {
        "colab": {
          "base_uri": "https://localhost:8080/"
        },
        "id": "bJdAFS-a6x4U",
        "outputId": "79628478-d725-447b-d539-9e95b54e61c0"
      },
      "source": [
        "print(df)"
      ],
      "execution_count": 83,
      "outputs": [
        {
          "output_type": "stream",
          "text": [
            "         numero_de_caso  ...     tipo_contagio\n",
            "0               2775791  ...  En Investigación\n",
            "1               2775982  ...       Comunitario\n",
            "2               2779533  ...       Comunitario\n",
            "3               2779701  ...       Comunitario\n",
            "4               2780180  ...       Comunitario\n",
            "...                 ...  ...               ...\n",
            "2528922         2446868  ...          Contacto\n",
            "2528923         2448949  ...       Comunitario\n",
            "2528924         2449546  ...       Comunitario\n",
            "2528925         2450555  ...  En Investigación\n",
            "2528926         2454097  ...       Comunitario\n",
            "\n",
            "[2528927 rows x 14 columns]\n"
          ],
          "name": "stdout"
        }
      ]
    },
    {
      "cell_type": "code",
      "metadata": {
        "colab": {
          "base_uri": "https://localhost:8080/"
        },
        "id": "Egs9lKhc7SgT",
        "outputId": "4744609d-a3cc-429e-e7f5-b48111d420a0"
      },
      "source": [
        "print(f'Columnas: {list(df.columns)}')\n",
        "print(f'Tamaño del dataframe {df.shape}')"
      ],
      "execution_count": 84,
      "outputs": [
        {
          "output_type": "stream",
          "text": [
            "Columnas: ['numero_de_caso', 'fecha_apertura_snvs', 'fecha_toma_muestra', 'fecha_clasificacion', 'provincia', 'barrio', 'comuna', 'genero', 'edad', 'clasificacion', 'fecha_fallecimiento', 'fallecido', 'fecha_alta', 'tipo_contagio']\n",
            "Tamaño del dataframe (2528927, 14)\n"
          ],
          "name": "stdout"
        }
      ]
    },
    {
      "cell_type": "code",
      "metadata": {
        "colab": {
          "base_uri": "https://localhost:8080/",
          "height": 179
        },
        "id": "y3elcN6p7w7m",
        "outputId": "b48c9dd1-c03f-4069-d332-b215b1dd4da2"
      },
      "source": [
        "df.loc[0:2]  # Listando los primeros 3 elementos"
      ],
      "execution_count": 85,
      "outputs": [
        {
          "output_type": "execute_result",
          "data": {
            "text/html": [
              "<div>\n",
              "<style scoped>\n",
              "    .dataframe tbody tr th:only-of-type {\n",
              "        vertical-align: middle;\n",
              "    }\n",
              "\n",
              "    .dataframe tbody tr th {\n",
              "        vertical-align: top;\n",
              "    }\n",
              "\n",
              "    .dataframe thead th {\n",
              "        text-align: right;\n",
              "    }\n",
              "</style>\n",
              "<table border=\"1\" class=\"dataframe\">\n",
              "  <thead>\n",
              "    <tr style=\"text-align: right;\">\n",
              "      <th></th>\n",
              "      <th>numero_de_caso</th>\n",
              "      <th>fecha_apertura_snvs</th>\n",
              "      <th>fecha_toma_muestra</th>\n",
              "      <th>fecha_clasificacion</th>\n",
              "      <th>provincia</th>\n",
              "      <th>barrio</th>\n",
              "      <th>comuna</th>\n",
              "      <th>genero</th>\n",
              "      <th>edad</th>\n",
              "      <th>clasificacion</th>\n",
              "      <th>fecha_fallecimiento</th>\n",
              "      <th>fallecido</th>\n",
              "      <th>fecha_alta</th>\n",
              "      <th>tipo_contagio</th>\n",
              "    </tr>\n",
              "  </thead>\n",
              "  <tbody>\n",
              "    <tr>\n",
              "      <th>0</th>\n",
              "      <td>2775791</td>\n",
              "      <td>21SEP2020:00:00:00.000000</td>\n",
              "      <td>21SEP2020:00:00:00.000000</td>\n",
              "      <td>22SEP2020:00:00:00.000000</td>\n",
              "      <td>CABA</td>\n",
              "      <td>BARRACAS</td>\n",
              "      <td>4.0</td>\n",
              "      <td>masculino</td>\n",
              "      <td>49.0</td>\n",
              "      <td>confirmado</td>\n",
              "      <td>NaN</td>\n",
              "      <td>NaN</td>\n",
              "      <td>29SEP2020:00:00:00.000000</td>\n",
              "      <td>En Investigación</td>\n",
              "    </tr>\n",
              "    <tr>\n",
              "      <th>1</th>\n",
              "      <td>2775982</td>\n",
              "      <td>21SEP2020:00:00:00.000000</td>\n",
              "      <td>21SEP2020:00:00:00.000000</td>\n",
              "      <td>21SEP2020:00:00:00.000000</td>\n",
              "      <td>CABA</td>\n",
              "      <td>FLORES</td>\n",
              "      <td>7.0</td>\n",
              "      <td>femenino</td>\n",
              "      <td>28.0</td>\n",
              "      <td>confirmado</td>\n",
              "      <td>NaN</td>\n",
              "      <td>NaN</td>\n",
              "      <td>29SEP2020:00:00:00.000000</td>\n",
              "      <td>Comunitario</td>\n",
              "    </tr>\n",
              "    <tr>\n",
              "      <th>2</th>\n",
              "      <td>2779533</td>\n",
              "      <td>21SEP2020:00:00:00.000000</td>\n",
              "      <td>21SEP2020:00:00:00.000000</td>\n",
              "      <td>21SEP2020:00:00:00.000000</td>\n",
              "      <td>Buenos Aires</td>\n",
              "      <td>NaN</td>\n",
              "      <td>NaN</td>\n",
              "      <td>femenino</td>\n",
              "      <td>70.0</td>\n",
              "      <td>confirmado</td>\n",
              "      <td>NaN</td>\n",
              "      <td>NaN</td>\n",
              "      <td>29SEP2020:00:00:00.000000</td>\n",
              "      <td>Comunitario</td>\n",
              "    </tr>\n",
              "  </tbody>\n",
              "</table>\n",
              "</div>"
            ],
            "text/plain": [
              "   numero_de_caso  ...     tipo_contagio\n",
              "0         2775791  ...  En Investigación\n",
              "1         2775982  ...       Comunitario\n",
              "2         2779533  ...       Comunitario\n",
              "\n",
              "[3 rows x 14 columns]"
            ]
          },
          "metadata": {
            "tags": []
          },
          "execution_count": 85
        }
      ]
    },
    {
      "cell_type": "code",
      "metadata": {
        "colab": {
          "base_uri": "https://localhost:8080/"
        },
        "id": "jL9HFZscKSNG",
        "outputId": "2d2d6f97-f3f3-43a7-e9e9-4a0a57cebf1e"
      },
      "source": [
        "pd.to_datetime('21SEP2020', format='%d%b%Y')\n"
      ],
      "execution_count": 86,
      "outputs": [
        {
          "output_type": "execute_result",
          "data": {
            "text/plain": [
              "Timestamp('2020-09-21 00:00:00')"
            ]
          },
          "metadata": {
            "tags": []
          },
          "execution_count": 86
        }
      ]
    },
    {
      "cell_type": "code",
      "metadata": {
        "id": "3iGziOxJ8Sie"
      },
      "source": [
        "df.fecha_apertura_snvs = pd.to_datetime(df.fecha_apertura_snvs, format='%d%b%Y:%H:%M:%S.%f') # Muy importante pegarle a todo el formato de la fecha\n",
        "df.fecha_toma_muestra = pd.to_datetime(df.fecha_toma_muestra, format='%d%b%Y:%H:%M:%S.%f')   # Ver si se puede hacer en menos lineas\n",
        "df.fecha_alta = pd.to_datetime(df.fecha_alta, format='%d%b%Y:%H:%M:%S.%f')\n",
        "df.fecha_clasificacion = pd.to_datetime(df.fecha_clasificacion, format='%d%b%Y:%H:%M:%S.%f')\n",
        "df.fecha_fallecimiento = pd.to_datetime(df.fecha_fallecimiento, format='%d%b%Y:%H:%M:%S.%f')\n"
      ],
      "execution_count": 87,
      "outputs": []
    },
    {
      "cell_type": "code",
      "metadata": {
        "colab": {
          "base_uri": "https://localhost:8080/"
        },
        "id": "T0EpOnqxS5GD",
        "outputId": "364a8bcd-7c9f-4dc8-bb27-efd5109070bb"
      },
      "source": [
        "# Para ver en que rango cubre este dataset\n",
        "print(df.fecha_toma_muestra.min())   # guarda 1974?\n",
        "print(df.fecha_toma_muestra.max())\n",
        "\n",
        "# Probando si  compara fechas\n",
        "print(df.fecha_toma_muestra.min() > df.fecha_toma_muestra.max()) \n",
        "\n"
      ],
      "execution_count": 127,
      "outputs": [
        {
          "output_type": "stream",
          "text": [
            "1974-11-09 00:00:00\n",
            "2021-05-27 00:00:00\n",
            "False\n"
          ],
          "name": "stdout"
        }
      ]
    },
    {
      "cell_type": "code",
      "metadata": {
        "colab": {
          "base_uri": "https://localhost:8080/"
        },
        "id": "omad6aM0_4Af",
        "outputId": "f0d58d59-de86-4bd1-fc47-02c91a8c5499"
      },
      "source": [
        "df.fecha_fallecimiento   # los NaN los transforma a NaT"
      ],
      "execution_count": 88,
      "outputs": [
        {
          "output_type": "execute_result",
          "data": {
            "text/plain": [
              "0         NaT\n",
              "1         NaT\n",
              "2         NaT\n",
              "3         NaT\n",
              "4         NaT\n",
              "           ..\n",
              "2528922   NaT\n",
              "2528923   NaT\n",
              "2528924   NaT\n",
              "2528925   NaT\n",
              "2528926   NaT\n",
              "Name: fecha_fallecimiento, Length: 2528927, dtype: datetime64[ns]"
            ]
          },
          "metadata": {
            "tags": []
          },
          "execution_count": 88
        }
      ]
    },
    {
      "cell_type": "code",
      "metadata": {
        "colab": {
          "base_uri": "https://localhost:8080/"
        },
        "id": "xjhvFi68A2qR",
        "outputId": "00136199-8cb9-43cb-d905-af6b5d24b7b4"
      },
      "source": [
        "print(f'Los tipos de contagio son {df.tipo_contagio.unique()}')\n",
        "df.groupby('tipo_contagio').fallecido.count()  # duda"
      ],
      "execution_count": 122,
      "outputs": [
        {
          "output_type": "stream",
          "text": [
            "Los tipos de contagio son ['En Investigación' 'Comunitario' 'Contacto' 'Trabajador de la Salud' nan\n",
            " 'Importado']\n"
          ],
          "name": "stdout"
        },
        {
          "output_type": "execute_result",
          "data": {
            "text/plain": [
              "tipo_contagio\n",
              "Comunitario               8719\n",
              "Contacto                  1848\n",
              "En Investigación          1700\n",
              "Importado                   13\n",
              "Trabajador de la Salud      91\n",
              "Name: fallecido, dtype: int64"
            ]
          },
          "metadata": {
            "tags": []
          },
          "execution_count": 122
        }
      ]
    },
    {
      "cell_type": "code",
      "metadata": {
        "colab": {
          "base_uri": "https://localhost:8080/"
        },
        "id": "gshBN5JnBI6K",
        "outputId": "1a41a427-33d5-4ac1-ae3d-d88f87b1e286"
      },
      "source": [
        "print(f'Los genero {df.genero.unique()}')\n",
        "df.groupby('genero').fallecido.count() \n",
        "# agrupo el dataframe por los que tienen mismo genero\n",
        "# me fijo en la columna de fallecidos\n",
        " # nunique cuenta solo los que no son unicos"
      ],
      "execution_count": 120,
      "outputs": [
        {
          "output_type": "stream",
          "text": [
            "Los genero ['masculino' 'femenino' nan]\n"
          ],
          "name": "stdout"
        },
        {
          "output_type": "execute_result",
          "data": {
            "text/plain": [
              "genero\n",
              "femenino     6530\n",
              "masculino    8213\n",
              "Name: fallecido, dtype: int64"
            ]
          },
          "metadata": {
            "tags": []
          },
          "execution_count": 120
        }
      ]
    },
    {
      "cell_type": "code",
      "metadata": {
        "colab": {
          "base_uri": "https://localhost:8080/"
        },
        "id": "RiA7d5ZmcHew",
        "outputId": "39b94ef6-807e-49e3-999a-db0c7fed2a59"
      },
      "source": [
        "df.comuna.max()"
      ],
      "execution_count": 144,
      "outputs": [
        {
          "output_type": "execute_result",
          "data": {
            "text/plain": [
              "15.0"
            ]
          },
          "metadata": {
            "tags": []
          },
          "execution_count": 144
        }
      ]
    },
    {
      "cell_type": "code",
      "metadata": {
        "colab": {
          "base_uri": "https://localhost:8080/",
          "height": 282
        },
        "id": "p6i0AI4BUCiH",
        "outputId": "69b7d232-ef0f-4764-f280-a78886cafacf"
      },
      "source": [
        "df_caba = df.dropna(subset=['comuna','fallecido'])\n",
        "\n",
        "histograma = df_caba.filter(items= ['comuna', 'fallecido'],).plot.hist(bins=50)\n",
        "print(histograma)\n",
        "plt.grid()\n",
        "plt.show()"
      ],
      "execution_count": 157,
      "outputs": [
        {
          "output_type": "stream",
          "text": [
            "AxesSubplot(0.125,0.125;0.775x0.755)\n"
          ],
          "name": "stdout"
        },
        {
          "output_type": "display_data",
          "data": {
            "image/png": "[encoded data removed]",
            "text/plain": [
              "<Figure size 432x288 with 1 Axes>"
            ]
          },
          "metadata": {
            "tags": [],
            "needs_background": "light"
          }
        }
      ]
    },
    {
      "cell_type": "code",
      "metadata": {
        "id": "hZvga-zGYX8N"
      },
      "source": [
        ""
      ],
      "execution_count": null,
      "outputs": []
    }
  ]
}