{
  "nbformat": 4,
  "nbformat_minor": 0,
  "metadata": {
    "colab": {
      "name": "datosCovid_FrontendCafe.ipynb",
      "provenance": [],
      "collapsed_sections": [],
      "authorship_tag": "ABX9TyNzbHtL6eojJx4iJYw1aPKK",
      "include_colab_link": true
    },
    "kernelspec": {
      "name": "python3",
      "display_name": "Python 3"
    },
    "language_info": {
      "name": "python"
    }
  },
  "cells": [
    {
      "cell_type": "markdown",
      "metadata": {
        "id": "view-in-github",
        "colab_type": "text"
      },
      "source": [
        "<a href=\"https://colab.research.google.com/github/fernandopaz1/Ciencia-de-Datos/blob/main/datosCovid_FrontendCafe.ipynb\" target=\"_parent\"><img src=\"https://colab.research.google.com/assets/colab-badge.svg\" alt=\"Open In Colab\"/></a>"
      ]
    },
    {
      "cell_type": "markdown",
      "metadata": {
        "id": "UVTzALe-iVdu"
      },
      "source": [
        "Importamos pandas para manejo de datos, la libreria numerica numpy y la libreria para graficar matplotlib.pyplot \n",
        "<br> \n",
        "\n",
        "La siguiente linea configura la forma en que se muestran los floats en pandas\n",
        "\n",
        "```\n",
        "pd.options.display.float_format = '{:.2f}'.format \n",
        "\n",
        "```\n",
        "\n"
      ]
    },
    {
      "cell_type": "code",
      "metadata": {
        "id": "s0xswXLsiTH2"
      },
      "source": [
        "import pandas as pd\n",
        "import numpy as np\n",
        "import matplotlib.pyplot as plt\n",
        "pd.options.display.float_format = '{:.2f}'.format"
      ],
      "execution_count": 40,
      "outputs": []
    },
    {
      "cell_type": "markdown",
      "metadata": {
        "id": "NrB17HMxjIE1"
      },
      "source": [
        "Con en estas lineas montamos el google drive como si fuera un disco externo"
      ]
    },
    {
      "cell_type": "code",
      "metadata": {
        "colab": {
          "base_uri": "https://localhost:8080/"
        },
        "id": "oKfFzqna0zbh",
        "outputId": "2b2f0ce5-f77d-451c-e2d4-cb27d2564409"
      },
      "source": [
        "from google.colab import drive\n",
        "drive.mount('/content/drive')"
      ],
      "execution_count": 41,
      "outputs": [
        {
          "output_type": "stream",
          "text": [
            "Drive already mounted at /content/drive; to attempt to forcibly remount, call drive.mount(\"/content/drive\", force_remount=True).\n"
          ],
          "name": "stdout"
        }
      ]
    },
    {
      "cell_type": "markdown",
      "metadata": {
        "id": "Zjgs8XLtjpV5"
      },
      "source": [
        "Tenemos que dar la direccion del cvs que quermos cargar relativo a nuestro drive \\\\\n",
        "Si otra persona quiere usar este mismo codigo debe subir el cvs a una ruta similar en su cuenta de google drive o en la ruta que desee y cambiar el valor de filename \\\\\n",
        "Con la función de pandas read_csv lee el contenido y nos devuelve un dataframe"
      ]
    },
    {
      "cell_type": "code",
      "metadata": {
        "colab": {
          "base_uri": "https://localhost:8080/"
        },
        "id": "pAIe1DnF4X9k",
        "outputId": "3449b1d9-e6b0-4aa5-b89d-8bb77ab8ca4f"
      },
      "source": [
        "filename = '/content/drive/My Drive/DatosFrontendCafe/casos_covid19.csv' \n",
        "datos = pd.read_csv(filename, dtype={})  # leyendo datos\n"
      ],
      "execution_count": 59,
      "outputs": [
        {
          "output_type": "stream",
          "text": [
            "/usr/local/lib/python3.7/dist-packages/IPython/core/interactiveshell.py:2718: DtypeWarning: Columns (10,11,13) have mixed types.Specify dtype option on import or set low_memory=False.\n",
            "  interactivity=interactivity, compiler=compiler, result=result)\n"
          ],
          "name": "stderr"
        }
      ]
    },
    {
      "cell_type": "markdown",
      "metadata": {
        "id": "vCHiuCFcl2bq"
      },
      "source": [
        "Al leer los datos me dice que las conlumnas 10, 11 y 13 tienen tipos de datos mixtos, sugiere que activemos la lectura con baja memoria para ahorrar recursos \\\\\n",
        "\n",
        "Abajo vemos opciones para visualizar esas columnas. Cuando ejecutamos solo muestra el resultado de la ultima, asi que conviene ejecutarlos de a uno o ponerlos dentro de un print() si queremos ver todos los resultados al mismo tiempo."
      ]
    },
    {
      "cell_type": "code",
      "metadata": {
        "colab": {
          "base_uri": "https://localhost:8080/"
        },
        "id": "CSPEQS2xxoRY",
        "outputId": "d5c709c9-6539-4f65-ee0f-83210fc7f919"
      },
      "source": [
        "# datos.columns[10:14]\n",
        "# datos.fallecido.unique()\n",
        "# datos.comuna.value_counts()   # cuenta cuantas filas hay de cada tipo\n",
        "type(datos.comuna[0])\n"
      ],
      "execution_count": 60,
      "outputs": [
        {
          "output_type": "execute_result",
          "data": {
            "text/plain": [
              "numpy.float64"
            ]
          },
          "metadata": {
            "tags": []
          },
          "execution_count": 60
        }
      ]
    },
    {
      "cell_type": "markdown",
      "metadata": {
        "id": "LXjtfyFpnCTF"
      },
      "source": [
        "Pasamos las columnas de comuna y edad a entero, ya que inicialmente aparecian como float64"
      ]
    },
    {
      "cell_type": "code",
      "metadata": {
        "id": "PLMkkl79zk6p"
      },
      "source": [
        "# pd.to_numeric(datos.comuna, downcast='integer', errors='ignore')\n",
        "datos.comuna = datos.comuna.astype('Int64')\n",
        "datos.edad = datos.edad.astype('Int64')"
      ],
      "execution_count": 61,
      "outputs": []
    },
    {
      "cell_type": "code",
      "metadata": {
        "colab": {
          "base_uri": "https://localhost:8080/"
        },
        "id": "Q83Fs6nLzj8d",
        "outputId": "e05080d3-0b1c-41c5-9a4c-5fe650f266d5"
      },
      "source": [
        "datos.edad"
      ],
      "execution_count": 62,
      "outputs": [
        {
          "output_type": "execute_result",
          "data": {
            "text/plain": [
              "0          49\n",
              "1          28\n",
              "2          70\n",
              "3          41\n",
              "4          64\n",
              "           ..\n",
              "2528922    53\n",
              "2528923    30\n",
              "2528924    73\n",
              "2528925    40\n",
              "2528926    29\n",
              "Name: edad, Length: 2528927, dtype: Int64"
            ]
          },
          "metadata": {
            "tags": []
          },
          "execution_count": 62
        }
      ]
    },
    {
      "cell_type": "code",
      "metadata": {
        "colab": {
          "base_uri": "https://localhost:8080/"
        },
        "id": "Egs9lKhc7SgT",
        "outputId": "67642bf6-dfff-4b39-90dd-5240494a0fec"
      },
      "source": [
        "print(f'Columnas: {list(datos.columns)}')\n",
        "print(f'Tamaño del dataframe {datos.shape}')"
      ],
      "execution_count": 63,
      "outputs": [
        {
          "output_type": "stream",
          "text": [
            "Columnas: ['numero_de_caso', 'fecha_apertura_snvs', 'fecha_toma_muestra', 'fecha_clasificacion', 'provincia', 'barrio', 'comuna', 'genero', 'edad', 'clasificacion', 'fecha_fallecimiento', 'fallecido', 'fecha_alta', 'tipo_contagio']\n",
            "Tamaño del dataframe (2528927, 14)\n"
          ],
          "name": "stdout"
        }
      ]
    },
    {
      "cell_type": "code",
      "metadata": {
        "colab": {
          "base_uri": "https://localhost:8080/",
          "height": 179
        },
        "id": "y3elcN6p7w7m",
        "outputId": "eb534493-7941-4489-af80-d0c7e811d238"
      },
      "source": [
        "datos.loc[0:2]  # Listando los primeros 3 elementos"
      ],
      "execution_count": 64,
      "outputs": [
        {
          "output_type": "execute_result",
          "data": {
            "text/html": [
              "<div>\n",
              "<style scoped>\n",
              "    .dataframe tbody tr th:only-of-type {\n",
              "        vertical-align: middle;\n",
              "    }\n",
              "\n",
              "    .dataframe tbody tr th {\n",
              "        vertical-align: top;\n",
              "    }\n",
              "\n",
              "    .dataframe thead th {\n",
              "        text-align: right;\n",
              "    }\n",
              "</style>\n",
              "<table border=\"1\" class=\"dataframe\">\n",
              "  <thead>\n",
              "    <tr style=\"text-align: right;\">\n",
              "      <th></th>\n",
              "      <th>numero_de_caso</th>\n",
              "      <th>fecha_apertura_snvs</th>\n",
              "      <th>fecha_toma_muestra</th>\n",
              "      <th>fecha_clasificacion</th>\n",
              "      <th>provincia</th>\n",
              "      <th>barrio</th>\n",
              "      <th>comuna</th>\n",
              "      <th>genero</th>\n",
              "      <th>edad</th>\n",
              "      <th>clasificacion</th>\n",
              "      <th>fecha_fallecimiento</th>\n",
              "      <th>fallecido</th>\n",
              "      <th>fecha_alta</th>\n",
              "      <th>tipo_contagio</th>\n",
              "    </tr>\n",
              "  </thead>\n",
              "  <tbody>\n",
              "    <tr>\n",
              "      <th>0</th>\n",
              "      <td>2775791</td>\n",
              "      <td>21SEP2020:00:00:00.000000</td>\n",
              "      <td>21SEP2020:00:00:00.000000</td>\n",
              "      <td>22SEP2020:00:00:00.000000</td>\n",
              "      <td>CABA</td>\n",
              "      <td>BARRACAS</td>\n",
              "      <td>4</td>\n",
              "      <td>masculino</td>\n",
              "      <td>49</td>\n",
              "      <td>confirmado</td>\n",
              "      <td>NaN</td>\n",
              "      <td>NaN</td>\n",
              "      <td>29SEP2020:00:00:00.000000</td>\n",
              "      <td>En Investigación</td>\n",
              "    </tr>\n",
              "    <tr>\n",
              "      <th>1</th>\n",
              "      <td>2775982</td>\n",
              "      <td>21SEP2020:00:00:00.000000</td>\n",
              "      <td>21SEP2020:00:00:00.000000</td>\n",
              "      <td>21SEP2020:00:00:00.000000</td>\n",
              "      <td>CABA</td>\n",
              "      <td>FLORES</td>\n",
              "      <td>7</td>\n",
              "      <td>femenino</td>\n",
              "      <td>28</td>\n",
              "      <td>confirmado</td>\n",
              "      <td>NaN</td>\n",
              "      <td>NaN</td>\n",
              "      <td>29SEP2020:00:00:00.000000</td>\n",
              "      <td>Comunitario</td>\n",
              "    </tr>\n",
              "    <tr>\n",
              "      <th>2</th>\n",
              "      <td>2779533</td>\n",
              "      <td>21SEP2020:00:00:00.000000</td>\n",
              "      <td>21SEP2020:00:00:00.000000</td>\n",
              "      <td>21SEP2020:00:00:00.000000</td>\n",
              "      <td>Buenos Aires</td>\n",
              "      <td>NaN</td>\n",
              "      <td>&lt;NA&gt;</td>\n",
              "      <td>femenino</td>\n",
              "      <td>70</td>\n",
              "      <td>confirmado</td>\n",
              "      <td>NaN</td>\n",
              "      <td>NaN</td>\n",
              "      <td>29SEP2020:00:00:00.000000</td>\n",
              "      <td>Comunitario</td>\n",
              "    </tr>\n",
              "  </tbody>\n",
              "</table>\n",
              "</div>"
            ],
            "text/plain": [
              "   numero_de_caso  ...     tipo_contagio\n",
              "0         2775791  ...  En Investigación\n",
              "1         2775982  ...       Comunitario\n",
              "2         2779533  ...       Comunitario\n",
              "\n",
              "[3 rows x 14 columns]"
            ]
          },
          "metadata": {
            "tags": []
          },
          "execution_count": 64
        }
      ]
    },
    {
      "cell_type": "code",
      "metadata": {
        "colab": {
          "base_uri": "https://localhost:8080/"
        },
        "id": "jL9HFZscKSNG",
        "outputId": "474b7fae-0a07-4bb9-cbb7-2fc191a104b1"
      },
      "source": [
        "type(datos.fecha_apertura_snvs[0])"
      ],
      "execution_count": 65,
      "outputs": [
        {
          "output_type": "execute_result",
          "data": {
            "text/plain": [
              "str"
            ]
          },
          "metadata": {
            "tags": []
          },
          "execution_count": 65
        }
      ]
    },
    {
      "cell_type": "markdown",
      "metadata": {
        "id": "chsjn2kloWUn"
      },
      "source": [
        "Como las fechas estan en formato string debemos pasarlas o otro formato (tipo datetime), lo cual nos permite hacer operaciones mas complejas como compararlos, ordenarlos, etc. <br>\n",
        "\n",
        "Para esto hay que indicar que formato tiene el string para poder extraer dia, mes, año, etc. En este caso el formato es \n",
        "\n",
        "```\n",
        "'%d%b%Y:%H:%M:%S.%f'\n",
        "```\n",
        "\n"
      ]
    },
    {
      "cell_type": "code",
      "metadata": {
        "id": "3iGziOxJ8Sie"
      },
      "source": [
        "datos.fecha_apertura_snvs = pd.to_datetime(datos.fecha_apertura_snvs, format='%d%b%Y:%H:%M:%S.%f') # Muy importante pegarle a todo el formato de la fecha\n",
        "datos.fecha_toma_muestra = pd.to_datetime(datos.fecha_toma_muestra, format='%d%b%Y:%H:%M:%S.%f')   # Ver si se puede hacer en menos lineas\n",
        "datos.fecha_alta = pd.to_datetime(datos.fecha_alta, format='%d%b%Y:%H:%M:%S.%f')\n",
        "datos.fecha_clasificacion = pd.to_datetime(datos.fecha_clasificacion, format='%d%b%Y:%H:%M:%S.%f')\n",
        "datos.fecha_fallecimiento = pd.to_datetime(datos.fecha_fallecimiento, format='%d%b%Y:%H:%M:%S.%f')\n"
      ],
      "execution_count": 66,
      "outputs": []
    },
    {
      "cell_type": "markdown",
      "metadata": {
        "id": "cr_SsTOTp-R-"
      },
      "source": [
        "Como habiamos visto datos.fecha_toma_muesta.value_counts() cuenta cuantas filas hay con la misma fecha de toma de muestra, es decir cuantos muestreos se hicieron en cada fecha. \\\\\n",
        "\n",
        "Agregandole .tail() nos muestra la cola de ese resultado, es decir las fechas con menos muestras. tail(70) muestra las ultimas 70. \\\\\n",
        "\n",
        "Algunos pueden ser directamente errores de tipeo o simplemente los primeros dias en que se empezo a testear, por lo que una estrategia sería descartar los todos las tomas de muestra previas a una fecha. Esta fecha puede ser la fecha en la que se empezaron a hacer testeos masivos."
      ]
    },
    {
      "cell_type": "code",
      "metadata": {
        "colab": {
          "base_uri": "https://localhost:8080/"
        },
        "id": "d_uehHnQheb0",
        "outputId": "17f90918-44be-4ada-ea2f-8f65b4cad198"
      },
      "source": [
        "datos.fecha_toma_muestra.value_counts().tail(70)"
      ],
      "execution_count": 67,
      "outputs": [
        {
          "output_type": "execute_result",
          "data": {
            "text/plain": [
              "2020-02-25    13\n",
              "2020-03-08    12\n",
              "2020-02-28    11\n",
              "2020-01-27    10\n",
              "2020-03-04     9\n",
              "              ..\n",
              "2020-02-15     1\n",
              "2020-02-29     1\n",
              "2020-02-13     1\n",
              "2020-01-25     1\n",
              "2020-02-23     1\n",
              "Name: fecha_toma_muestra, Length: 70, dtype: int64"
            ]
          },
          "metadata": {
            "tags": []
          },
          "execution_count": 67
        }
      ]
    },
    {
      "cell_type": "markdown",
      "metadata": {
        "id": "hZmLFwX0w9S9"
      },
      "source": [
        "Con las siguientes lineas vemos que hay valores de toma de muestra previos a la llegada del covid al pais por lo tanto habria que descartarlos"
      ]
    },
    {
      "cell_type": "code",
      "metadata": {
        "colab": {
          "base_uri": "https://localhost:8080/"
        },
        "id": "T0EpOnqxS5GD",
        "outputId": "1fe6aabc-1500-4035-da67-1f9071735f4c"
      },
      "source": [
        "# Para ver en que rango cubre este dataset\n",
        "print(datos['fecha_toma_muestra'].min())   # guarda 1974?  posible error de tipeo Outlier\n",
        "print(datos['fecha_toma_muestra'].max())\n",
        "\n",
        "# Boxplot \n",
        "\n",
        "# Probando si  compara fech\n",
        "datos.fecha_toma_muestra.describe()\n",
        "\n",
        "\n",
        "# datos.boxplot(column='fecha_toma_muestra', return_type='axes');\n",
        "# plt.show()"
      ],
      "execution_count": 68,
      "outputs": [
        {
          "output_type": "stream",
          "text": [
            "1974-11-09 00:00:00\n",
            "2021-05-27 00:00:00\n"
          ],
          "name": "stdout"
        },
        {
          "output_type": "stream",
          "text": [
            "/usr/local/lib/python3.7/dist-packages/ipykernel_launcher.py:8: FutureWarning: Treating datetime data as categorical rather than numeric in `.describe` is deprecated and will be removed in a future version of pandas. Specify `datetime_is_numeric=True` to silence this warning and adopt the future behavior now.\n",
            "  \n"
          ],
          "name": "stderr"
        },
        {
          "output_type": "execute_result",
          "data": {
            "text/plain": [
              "count                 2523273\n",
              "unique                    520\n",
              "top       2021-05-20 00:00:00\n",
              "freq                    21714\n",
              "first     1974-11-09 00:00:00\n",
              "last      2021-05-27 00:00:00\n",
              "Name: fecha_toma_muestra, dtype: object"
            ]
          },
          "metadata": {
            "tags": []
          },
          "execution_count": 68
        }
      ]
    },
    {
      "cell_type": "markdown",
      "metadata": {
        "id": "4FVil-8vyGBV"
      },
      "source": [
        "Lo mismo aca  hay que descartar las fechas que no coincidan. Buscando en noticias encontramos que el primer fallecido en caba fue le 07/03/2020 [fuente](https://www.infobae.com/sociedad/2020/04/14/primera-muerte-por-coronavirus-en-argentina-era-un-hombre-que-habia-viajado-a-francia-y-estaba-internado-en-el-argerich/)"
      ]
    },
    {
      "cell_type": "code",
      "metadata": {
        "colab": {
          "base_uri": "https://localhost:8080/"
        },
        "id": "omad6aM0_4Af",
        "outputId": "820f43bb-7cfd-4271-e992-61201da21422"
      },
      "source": [
        "# datos.fecha_fallecimiento[0]   # los NaN los transforma a NaT\n",
        "print(datos.fecha_fallecimiento.value_counts().tail(70))\n",
        "datos.fecha_fallecimiento.describe()\n"
      ],
      "execution_count": 69,
      "outputs": [
        {
          "output_type": "stream",
          "text": [
            "2021-01-14    13\n",
            "2020-04-27    13\n",
            "2020-05-23    13\n",
            "2020-11-25    13\n",
            "2020-05-15    13\n",
            "              ..\n",
            "2020-03-09     1\n",
            "2020-03-10     1\n",
            "2020-03-18     1\n",
            "2020-03-20     1\n",
            "2020-03-23     1\n",
            "Name: fecha_fallecimiento, Length: 70, dtype: int64\n"
          ],
          "name": "stdout"
        },
        {
          "output_type": "stream",
          "text": [
            "/usr/local/lib/python3.7/dist-packages/ipykernel_launcher.py:3: FutureWarning: Treating datetime data as categorical rather than numeric in `.describe` is deprecated and will be removed in a future version of pandas. Specify `datetime_is_numeric=True` to silence this warning and adopt the future behavior now.\n",
            "  This is separate from the ipykernel package so we can avoid doing imports until\n"
          ],
          "name": "stderr"
        },
        {
          "output_type": "execute_result",
          "data": {
            "text/plain": [
              "count                   14743\n",
              "unique                    440\n",
              "top       2021-04-27 00:00:00\n",
              "freq                       93\n",
              "first     2020-03-07 00:00:00\n",
              "last      2021-05-27 00:00:00\n",
              "Name: fecha_fallecimiento, dtype: object"
            ]
          },
          "metadata": {
            "tags": []
          },
          "execution_count": 69
        }
      ]
    },
    {
      "cell_type": "markdown",
      "metadata": {
        "id": "xOlePMFo0iqS"
      },
      "source": [
        "Vemos si hay mas de un fallecido el dia del primer desceso y cual fue la fecha de toma de muestra. \\\\\n",
        "\n",
        "Hay 70 personas a las que se les hizo el test en una fecha posterior y se las registro como fallecidas el mismo dia del primer desceso"
      ]
    },
    {
      "cell_type": "code",
      "metadata": {
        "colab": {
          "base_uri": "https://localhost:8080/"
        },
        "id": "9xJt3clM02Wv",
        "outputId": "9abfb8fc-f03b-42c3-c6f7-da156f72b565"
      },
      "source": [
        "datos.fecha_toma_muestra[datos.fecha_fallecimiento == '2020-03-07']\n"
      ],
      "execution_count": 70,
      "outputs": [
        {
          "output_type": "execute_result",
          "data": {
            "text/plain": [
              "1247994   2020-03-05\n",
              "Name: fecha_toma_muestra, dtype: datetime64[ns]"
            ]
          },
          "metadata": {
            "tags": []
          },
          "execution_count": 70
        }
      ]
    },
    {
      "cell_type": "markdown",
      "metadata": {
        "id": "jmHcZhQQ1ySP"
      },
      "source": [
        "Posible criterio de limpiado: tirar las filas donde el test se hizo luego del fallecimiento. Contra: descartariamos los casos de personas que fallecieron y luego se testearon\n",
        "\n"
      ]
    },
    {
      "cell_type": "code",
      "metadata": {
        "id": "UROnhb-81knv"
      },
      "source": [
        "# datos = datos[datos.fecha_toma_muestra < datos.fecha_fallecimiento]  \n",
        "datos = datos[datos.fecha_toma_muestra < datos.fecha_clasificacion]   # no se puede clasificar sin testear "
      ],
      "execution_count": 71,
      "outputs": []
    },
    {
      "cell_type": "markdown",
      "metadata": {
        "id": "uV5I3hWB45Ag"
      },
      "source": [
        "Una estrategia podria ser deshacernos de edades negativas y de edades muy altas (máximo 105). \\\\\n",
        "\n",
        "Hay que ver tambien la edad de 0 años que tiene 1079 casos si se puede atribuir a error de tipeo u omisión del campo edad \\\\"
      ]
    },
    {
      "cell_type": "code",
      "metadata": {
        "colab": {
          "base_uri": "https://localhost:8080/"
        },
        "id": "s_CjDXJuCFMF",
        "outputId": "90935d53-92cb-4936-cfb4-5d669c83a78e"
      },
      "source": [
        "print(f' Porcentaje de los que tienen edad de mas de 100 {datos.edad.value_counts().tail(30).sum()/len(datos.edad)}') # ver criterio de edad para tirar\n",
        "print(datos.edad.value_counts().tail(20))\n",
        "datos = datos[datos.edad >= 0]\n",
        "datos = datos[datos.edad <= 105]\n"
      ],
      "execution_count": 72,
      "outputs": [
        {
          "output_type": "stream",
          "text": [
            " Porcentaje de los que tienen edad de mas de 100 0.029342529263583973\n",
            " 94     733\n",
            " 95     577\n",
            " 96     449\n",
            " 97     317\n",
            " 98     271\n",
            " 99     167\n",
            " 100    116\n",
            " 101     59\n",
            " 102     36\n",
            " 103     25\n",
            " 121     18\n",
            " 105     11\n",
            " 104     10\n",
            " 221      2\n",
            " 106      2\n",
            " 108      2\n",
            " 109      1\n",
            " 131      1\n",
            " 107      1\n",
            "-10       1\n",
            "Name: edad, dtype: Int64\n"
          ],
          "name": "stdout"
        }
      ]
    },
    {
      "cell_type": "markdown",
      "metadata": {
        "id": "x-rElQrX-0V2"
      },
      "source": [
        "Una vez filtradas las edades podemos normalizaras "
      ]
    },
    {
      "cell_type": "code",
      "metadata": {
        "id": "cuBo9z-F-55U"
      },
      "source": [
        "datos = datos.edad/datos.edad.max()"
      ],
      "execution_count": 73,
      "outputs": []
    },
    {
      "cell_type": "markdown",
      "metadata": {
        "id": "BmjWh2V59Fws"
      },
      "source": [
        "El criterio para descartar por toma de muestra puede ser la fecha del primer caso en argentina 2020-03-03 [fuente](https://www.argentina.gob.ar/noticias/salud-confirma-el-primer-caso-de-coronavirus-en-el-pais) o una fecha en la que comenzaron a hacer testeos masivos"
      ]
    },
    {
      "cell_type": "code",
      "metadata": {
        "id": "lhVMjsflACl_",
        "colab": {
          "base_uri": "https://localhost:8080/",
          "height": 282
        },
        "outputId": "51f88e58-2abc-4bfd-dde3-55f1646123d6"
      },
      "source": [
        "datos = datos[datos.fecha_toma_muestra > \"2020-03-03\"]"
      ],
      "execution_count": 76,
      "outputs": [
        {
          "output_type": "error",
          "ename": "AttributeError",
          "evalue": "ignored",
          "traceback": [
            "\u001b[0;31m---------------------------------------------------------------------------\u001b[0m",
            "\u001b[0;31mAttributeError\u001b[0m                            Traceback (most recent call last)",
            "\u001b[0;32m<ipython-input-76-880a484de328>\u001b[0m in \u001b[0;36m<module>\u001b[0;34m()\u001b[0m\n\u001b[0;32m----> 1\u001b[0;31m \u001b[0mdatos\u001b[0m\u001b[0;34m.\u001b[0m\u001b[0medad\u001b[0m\u001b[0;34m\u001b[0m\u001b[0;34m\u001b[0m\u001b[0m\n\u001b[0m",
            "\u001b[0;32m/usr/local/lib/python3.7/dist-packages/pandas/core/generic.py\u001b[0m in \u001b[0;36m__getattr__\u001b[0;34m(self, name)\u001b[0m\n\u001b[1;32m   5139\u001b[0m             \u001b[0;32mif\u001b[0m \u001b[0mself\u001b[0m\u001b[0;34m.\u001b[0m\u001b[0m_info_axis\u001b[0m\u001b[0;34m.\u001b[0m\u001b[0m_can_hold_identifiers_and_holds_name\u001b[0m\u001b[0;34m(\u001b[0m\u001b[0mname\u001b[0m\u001b[0;34m)\u001b[0m\u001b[0;34m:\u001b[0m\u001b[0;34m\u001b[0m\u001b[0;34m\u001b[0m\u001b[0m\n\u001b[1;32m   5140\u001b[0m                 \u001b[0;32mreturn\u001b[0m \u001b[0mself\u001b[0m\u001b[0;34m[\u001b[0m\u001b[0mname\u001b[0m\u001b[0;34m]\u001b[0m\u001b[0;34m\u001b[0m\u001b[0;34m\u001b[0m\u001b[0m\n\u001b[0;32m-> 5141\u001b[0;31m             \u001b[0;32mreturn\u001b[0m \u001b[0mobject\u001b[0m\u001b[0;34m.\u001b[0m\u001b[0m__getattribute__\u001b[0m\u001b[0;34m(\u001b[0m\u001b[0mself\u001b[0m\u001b[0;34m,\u001b[0m \u001b[0mname\u001b[0m\u001b[0;34m)\u001b[0m\u001b[0;34m\u001b[0m\u001b[0;34m\u001b[0m\u001b[0m\n\u001b[0m\u001b[1;32m   5142\u001b[0m \u001b[0;34m\u001b[0m\u001b[0m\n\u001b[1;32m   5143\u001b[0m     \u001b[0;32mdef\u001b[0m \u001b[0m__setattr__\u001b[0m\u001b[0;34m(\u001b[0m\u001b[0mself\u001b[0m\u001b[0;34m,\u001b[0m \u001b[0mname\u001b[0m\u001b[0;34m:\u001b[0m \u001b[0mstr\u001b[0m\u001b[0;34m,\u001b[0m \u001b[0mvalue\u001b[0m\u001b[0;34m)\u001b[0m \u001b[0;34m->\u001b[0m \u001b[0;32mNone\u001b[0m\u001b[0;34m:\u001b[0m\u001b[0;34m\u001b[0m\u001b[0;34m\u001b[0m\u001b[0m\n",
            "\u001b[0;31mAttributeError\u001b[0m: 'Series' object has no attribute 'edad'"
          ]
        }
      ]
    },
    {
      "cell_type": "code",
      "metadata": {
        "id": "JG2FvmvZBLwr"
      },
      "source": [
        "datos.edad.describe()"
      ],
      "execution_count": null,
      "outputs": []
    },
    {
      "cell_type": "code",
      "metadata": {
        "id": "gffHEdAfDxK5"
      },
      "source": [
        "datos.edad[datos]"
      ],
      "execution_count": null,
      "outputs": []
    },
    {
      "cell_type": "code",
      "metadata": {
        "id": "xjhvFi68A2qR"
      },
      "source": [
        "print(f'Los tipos de contagio son {datos.tipo_contagio.unique()}')\n",
        "datos.groupby(['tipo_contagio', 'provincia']).count()  # duda"
      ],
      "execution_count": null,
      "outputs": []
    },
    {
      "cell_type": "code",
      "metadata": {
        "id": "gshBN5JnBI6K"
      },
      "source": [
        "print(f'Los genero {datos.genero.unique()}')\n",
        "datos.groupby('genero').fallecido.count() \n",
        "# agrupo el dataframe por los que tienen mismo genero\n",
        "# me fijo en la columna de fallecidos\n",
        " # nunique cuenta solo los que no son unicos"
      ],
      "execution_count": null,
      "outputs": []
    },
    {
      "cell_type": "code",
      "metadata": {
        "id": "RiA7d5ZmcHew"
      },
      "source": [
        "datos.comuna.max()"
      ],
      "execution_count": null,
      "outputs": []
    },
    {
      "cell_type": "code",
      "metadata": {
        "id": "p6i0AI4BUCiH"
      },
      "source": [
        "\n",
        "\n",
        "df_fallecidos = df.dropna(subset=['provincia','fallecido'])\n",
        "\n",
        "print(df_fallecidos)\n",
        "df_caba_fallecidos = df_fallecidos.filter(items= ['provincia','comuna', 'fallecido'])\n",
        "df_caba_fallecidos = df_caba_fallecidos.loc[df['provincia'] == 'CABA']\n",
        "print(df_caba_fallecidos)\n",
        "histograma = df_caba_fallecidos.hist(bins=50)\n",
        "plt.grid()\n",
        "plt.show()"
      ],
      "execution_count": null,
      "outputs": []
    },
    {
      "cell_type": "code",
      "metadata": {
        "id": "hZvga-zGYX8N"
      },
      "source": [
        ""
      ],
      "execution_count": null,
      "outputs": []
    }
  ]
}