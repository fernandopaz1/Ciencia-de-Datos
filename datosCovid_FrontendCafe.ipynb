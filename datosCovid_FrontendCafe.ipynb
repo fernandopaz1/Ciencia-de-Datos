{
  "nbformat": 4,
  "nbformat_minor": 0,
  "metadata": {
    "colab": {
      "name": "datosCovid_FrontendCafe.ipynb",
      "provenance": [],
      "collapsed_sections": [],
      "authorship_tag": "ABX9TyPFL/LOzn+KAeRDTu9wa86K"
    },
    "kernelspec": {
      "name": "python3",
      "display_name": "Python 3"
    },
    "language_info": {
      "name": "python"
    }
  },
  "cells": [
    {
      "cell_type": "code",
      "metadata": {
        "colab": {
          "base_uri": "https://localhost:8080/"
        },
        "id": "oKfFzqna0zbh",
        "outputId": "e535ddac-654f-4cfc-c503-4ae2cc8a1ad2"
      },
      "source": [
        "from google.colab import drive\n",
        "drive.mount('/content/drive')"
      ],
      "execution_count": 1,
      "outputs": [
        {
          "output_type": "stream",
          "text": [
            "Mounted at /content/drive\n"
          ],
          "name": "stdout"
        }
      ]
    },
    {
      "cell_type": "markdown",
      "metadata": {
        "id": "XWGCInIpSPOe"
      },
      "source": [
        ""
      ]
    },
    {
      "cell_type": "code",
      "metadata": {
        "id": "SZByb14p1GHH"
      },
      "source": [
        "import pandas as pd"
      ],
      "execution_count": 2,
      "outputs": []
    },
    {
      "cell_type": "code",
      "metadata": {
        "id": "H1GKl6Ct6Ekj"
      },
      "source": [
        "import numpy as np\n",
        "import matplotlib.pyplot as plt\n",
        "pd.options.display.float_format = '{:.2f}'.format\n"
      ],
      "execution_count": 84,
      "outputs": []
    },
    {
      "cell_type": "code",
      "metadata": {
        "id": "Jv1Eht3UxmFI"
      },
      "source": [
        ""
      ],
      "execution_count": null,
      "outputs": []
    },
    {
      "cell_type": "code",
      "metadata": {
        "colab": {
          "base_uri": "https://localhost:8080/"
        },
        "id": "pAIe1DnF4X9k",
        "outputId": "783221e3-eec2-4261-c516-9703ec12ad71"
      },
      "source": [
        "filename = '/content/drive/My Drive/DatosFrontendCafe/casos_covid19.csv' \n",
        "datos = pd.read_csv(filename, dtype={})  # leyendo datos\n",
        "\n",
        "# Tip del día: ver bien cual es el separador "
      ],
      "execution_count": 22,
      "outputs": [
        {
          "output_type": "stream",
          "text": [
            "/usr/local/lib/python3.7/dist-packages/IPython/core/interactiveshell.py:2718: DtypeWarning: Columns (10,11,13) have mixed types.Specify dtype option on import or set low_memory=False.\n",
            "  interactivity=interactivity, compiler=compiler, result=result)\n"
          ],
          "name": "stderr"
        }
      ]
    },
    {
      "cell_type": "code",
      "metadata": {
        "colab": {
          "base_uri": "https://localhost:8080/"
        },
        "id": "CSPEQS2xxoRY",
        "outputId": "198f0562-1ab8-4a79-8307-1c293ea1a40a"
      },
      "source": [
        "# datos.columns[10:14]\n",
        "# datos.fallecido.unique()\n",
        "datos.comuna.value_counts()\n"
      ],
      "execution_count": 40,
      "outputs": [
        {
          "output_type": "execute_result",
          "data": {
            "text/plain": [
              "14    124678\n",
              "13    120391\n",
              "4     112358\n",
              "1     109313\n",
              "7     102999\n",
              "12    100536\n",
              "15     93302\n",
              "3      92228\n",
              "11     88872\n",
              "5      88440\n",
              "6      86937\n",
              "8      83847\n",
              "2      81593\n",
              "9      74869\n",
              "10     74412\n",
              "Name: comuna, dtype: Int64"
            ]
          },
          "metadata": {
            "tags": []
          },
          "execution_count": 40
        }
      ]
    },
    {
      "cell_type": "code",
      "metadata": {
        "id": "PLMkkl79zk6p"
      },
      "source": [
        "# pd.to_numeric(datos.comuna, downcast='integer', errors='ignore')\n",
        "datos.comuna = datos.comuna.astype('Int64')\n",
        "datos.edad = datos.edad.astype('Int64')"
      ],
      "execution_count": 81,
      "outputs": []
    },
    {
      "cell_type": "code",
      "metadata": {
        "colab": {
          "base_uri": "https://localhost:8080/"
        },
        "id": "Q83Fs6nLzj8d",
        "outputId": "f150ecb3-0ea4-4267-a49c-237533fc1646"
      },
      "source": [
        "datos.edad"
      ],
      "execution_count": 83,
      "outputs": [
        {
          "output_type": "execute_result",
          "data": {
            "text/plain": [
              "0          49\n",
              "1          28\n",
              "2          70\n",
              "3          41\n",
              "4          64\n",
              "           ..\n",
              "2528922    53\n",
              "2528923    30\n",
              "2528924    73\n",
              "2528925    40\n",
              "2528926    29\n",
              "Name: edad, Length: 2523009, dtype: Int64"
            ]
          },
          "metadata": {
            "tags": []
          },
          "execution_count": 83
        }
      ]
    },
    {
      "cell_type": "code",
      "metadata": {
        "colab": {
          "base_uri": "https://localhost:8080/"
        },
        "id": "7-MctUAs12Jo",
        "outputId": "bd41e8ca-78fc-401a-d67d-edbd84ddfaf0"
      },
      "source": [
        "type(datos)"
      ],
      "execution_count": 42,
      "outputs": [
        {
          "output_type": "execute_result",
          "data": {
            "text/plain": [
              "pandas.core.frame.DataFrame"
            ]
          },
          "metadata": {
            "tags": []
          },
          "execution_count": 42
        }
      ]
    },
    {
      "cell_type": "code",
      "metadata": {
        "id": "UgYZoMx34_Vq"
      },
      "source": [
        "df = pd.DataFrame(datos)   # Poniendolos en un dataframe"
      ],
      "execution_count": 5,
      "outputs": []
    },
    {
      "cell_type": "code",
      "metadata": {
        "colab": {
          "base_uri": "https://localhost:8080/"
        },
        "id": "bJdAFS-a6x4U",
        "outputId": "6960f8d7-9f08-47ec-82e4-971becc31781"
      },
      "source": [
        "print(df.head())"
      ],
      "execution_count": 6,
      "outputs": [
        {
          "output_type": "stream",
          "text": [
            "   numero_de_caso  ...     tipo_contagio\n",
            "0         2775791  ...  En Investigación\n",
            "1         2775982  ...       Comunitario\n",
            "2         2779533  ...       Comunitario\n",
            "3         2779701  ...       Comunitario\n",
            "4         2780180  ...       Comunitario\n",
            "\n",
            "[5 rows x 14 columns]\n"
          ],
          "name": "stdout"
        }
      ]
    },
    {
      "cell_type": "code",
      "metadata": {
        "colab": {
          "base_uri": "https://localhost:8080/"
        },
        "id": "Egs9lKhc7SgT",
        "outputId": "fbc5ac24-b1bc-41b1-c820-ca51af4f43ec"
      },
      "source": [
        "print(f'Columnas: {list(df.columns)}')\n",
        "print(f'Tamaño del dataframe {df.shape}')"
      ],
      "execution_count": 44,
      "outputs": [
        {
          "output_type": "stream",
          "text": [
            "Columnas: ['numero_de_caso', 'fecha_apertura_snvs', 'fecha_toma_muestra', 'fecha_clasificacion', 'provincia', 'barrio', 'comuna', 'genero', 'edad', 'clasificacion', 'fecha_fallecimiento', 'fallecido', 'fecha_alta', 'tipo_contagio']\n",
            "Tamaño del dataframe (2528927, 14)\n"
          ],
          "name": "stdout"
        }
      ]
    },
    {
      "cell_type": "code",
      "metadata": {
        "colab": {
          "base_uri": "https://localhost:8080/",
          "height": 179
        },
        "id": "y3elcN6p7w7m",
        "outputId": "048aef17-7cb1-4cb6-a854-ddeca394dcf0"
      },
      "source": [
        "df.loc[0:2]  # Listando los primeros 3 elementos"
      ],
      "execution_count": 41,
      "outputs": [
        {
          "output_type": "execute_result",
          "data": {
            "text/html": [
              "<div>\n",
              "<style scoped>\n",
              "    .dataframe tbody tr th:only-of-type {\n",
              "        vertical-align: middle;\n",
              "    }\n",
              "\n",
              "    .dataframe tbody tr th {\n",
              "        vertical-align: top;\n",
              "    }\n",
              "\n",
              "    .dataframe thead th {\n",
              "        text-align: right;\n",
              "    }\n",
              "</style>\n",
              "<table border=\"1\" class=\"dataframe\">\n",
              "  <thead>\n",
              "    <tr style=\"text-align: right;\">\n",
              "      <th></th>\n",
              "      <th>numero_de_caso</th>\n",
              "      <th>fecha_apertura_snvs</th>\n",
              "      <th>fecha_toma_muestra</th>\n",
              "      <th>fecha_clasificacion</th>\n",
              "      <th>provincia</th>\n",
              "      <th>barrio</th>\n",
              "      <th>comuna</th>\n",
              "      <th>genero</th>\n",
              "      <th>edad</th>\n",
              "      <th>clasificacion</th>\n",
              "      <th>fecha_fallecimiento</th>\n",
              "      <th>fallecido</th>\n",
              "      <th>fecha_alta</th>\n",
              "      <th>tipo_contagio</th>\n",
              "    </tr>\n",
              "  </thead>\n",
              "  <tbody>\n",
              "    <tr>\n",
              "      <th>0</th>\n",
              "      <td>2775791</td>\n",
              "      <td>2020-09-21</td>\n",
              "      <td>2020-09-21</td>\n",
              "      <td>2020-09-22</td>\n",
              "      <td>CABA</td>\n",
              "      <td>BARRACAS</td>\n",
              "      <td>4.0</td>\n",
              "      <td>masculino</td>\n",
              "      <td>49.0</td>\n",
              "      <td>confirmado</td>\n",
              "      <td>NaT</td>\n",
              "      <td>NaN</td>\n",
              "      <td>2020-09-29</td>\n",
              "      <td>En Investigación</td>\n",
              "    </tr>\n",
              "    <tr>\n",
              "      <th>1</th>\n",
              "      <td>2775982</td>\n",
              "      <td>2020-09-21</td>\n",
              "      <td>2020-09-21</td>\n",
              "      <td>2020-09-21</td>\n",
              "      <td>CABA</td>\n",
              "      <td>FLORES</td>\n",
              "      <td>7.0</td>\n",
              "      <td>femenino</td>\n",
              "      <td>28.0</td>\n",
              "      <td>confirmado</td>\n",
              "      <td>NaT</td>\n",
              "      <td>NaN</td>\n",
              "      <td>2020-09-29</td>\n",
              "      <td>Comunitario</td>\n",
              "    </tr>\n",
              "    <tr>\n",
              "      <th>2</th>\n",
              "      <td>2779533</td>\n",
              "      <td>2020-09-21</td>\n",
              "      <td>2020-09-21</td>\n",
              "      <td>2020-09-21</td>\n",
              "      <td>Buenos Aires</td>\n",
              "      <td>NaN</td>\n",
              "      <td>NaN</td>\n",
              "      <td>femenino</td>\n",
              "      <td>70.0</td>\n",
              "      <td>confirmado</td>\n",
              "      <td>NaT</td>\n",
              "      <td>NaN</td>\n",
              "      <td>2020-09-29</td>\n",
              "      <td>Comunitario</td>\n",
              "    </tr>\n",
              "  </tbody>\n",
              "</table>\n",
              "</div>"
            ],
            "text/plain": [
              "   numero_de_caso fecha_apertura_snvs  ... fecha_alta     tipo_contagio\n",
              "0         2775791          2020-09-21  ... 2020-09-29  En Investigación\n",
              "1         2775982          2020-09-21  ... 2020-09-29       Comunitario\n",
              "2         2779533          2020-09-21  ... 2020-09-29       Comunitario\n",
              "\n",
              "[3 rows x 14 columns]"
            ]
          },
          "metadata": {
            "tags": []
          },
          "execution_count": 41
        }
      ]
    },
    {
      "cell_type": "code",
      "metadata": {
        "colab": {
          "base_uri": "https://localhost:8080/"
        },
        "id": "jL9HFZscKSNG",
        "outputId": "f2eb4518-623b-4718-9fd3-48a6aa81def8"
      },
      "source": [
        "pd.to_datetime('21SEP2020', format='%d%b%Y')\n",
        "df.fecha_toma_muestra.type()"
      ],
      "execution_count": 9,
      "outputs": [
        {
          "output_type": "execute_result",
          "data": {
            "text/plain": [
              "Timestamp('2020-09-21 00:00:00')"
            ]
          },
          "metadata": {
            "tags": []
          },
          "execution_count": 9
        }
      ]
    },
    {
      "cell_type": "code",
      "metadata": {
        "id": "3iGziOxJ8Sie"
      },
      "source": [
        "datos.fecha_apertura_snvs = pd.to_datetime(df.fecha_apertura_snvs, format='%d%b%Y:%H:%M:%S.%f') # Muy importante pegarle a todo el formato de la fecha\n",
        "datos.fecha_toma_muestra = pd.to_datetime(df.fecha_toma_muestra, format='%d%b%Y:%H:%M:%S.%f')   # Ver si se puede hacer en menos lineas\n",
        "datos.fecha_alta = pd.to_datetime(df.fecha_alta, format='%d%b%Y:%H:%M:%S.%f')\n",
        "datos.fecha_clasificacion = pd.to_datetime(df.fecha_clasificacion, format='%d%b%Y:%H:%M:%S.%f')\n",
        "datos.fecha_fallecimiento = pd.to_datetime(df.fecha_fallecimiento, format='%d%b%Y:%H:%M:%S.%f')\n"
      ],
      "execution_count": 52,
      "outputs": []
    },
    {
      "cell_type": "code",
      "metadata": {
        "colab": {
          "base_uri": "https://localhost:8080/"
        },
        "id": "B8iVjP2I33UZ",
        "outputId": "0b41e5f3-78b9-4588-e407-a661cae83847"
      },
      "source": [
        "print(df.fecha_apertura_snvs)\n",
        "print(datos.fecha_apertura_snvs) "
      ],
      "execution_count": 53,
      "outputs": [
        {
          "output_type": "stream",
          "text": [
            "0         2020-09-21\n",
            "1         2020-09-21\n",
            "2         2020-09-21\n",
            "3         2020-09-21\n",
            "4         2020-09-21\n",
            "             ...    \n",
            "2528922   2020-09-08\n",
            "2528923   2020-09-08\n",
            "2528924   2020-09-08\n",
            "2528925   2020-09-08\n",
            "2528926   2020-09-08\n",
            "Name: fecha_apertura_snvs, Length: 2528927, dtype: datetime64[ns]\n",
            "0         2020-09-21\n",
            "1         2020-09-21\n",
            "2         2020-09-21\n",
            "3         2020-09-21\n",
            "4         2020-09-21\n",
            "             ...    \n",
            "2528922   2020-09-08\n",
            "2528923   2020-09-08\n",
            "2528924   2020-09-08\n",
            "2528925   2020-09-08\n",
            "2528926   2020-09-08\n",
            "Name: fecha_apertura_snvs, Length: 2528927, dtype: datetime64[ns]\n"
          ],
          "name": "stdout"
        }
      ]
    },
    {
      "cell_type": "code",
      "metadata": {
        "id": "tPaMQfpvhaa7",
        "colab": {
          "base_uri": "https://localhost:8080/"
        },
        "outputId": "163967ca-9518-44ad-a35c-56fa01a3fa79"
      },
      "source": [
        "df.fecha_toma_muestra[10]"
      ],
      "execution_count": 50,
      "outputs": [
        {
          "output_type": "execute_result",
          "data": {
            "text/plain": [
              "Timestamp('2020-09-21 00:00:00')"
            ]
          },
          "metadata": {
            "tags": []
          },
          "execution_count": 50
        }
      ]
    },
    {
      "cell_type": "code",
      "metadata": {
        "colab": {
          "base_uri": "https://localhost:8080/"
        },
        "id": "d_uehHnQheb0",
        "outputId": "bb109cb3-e8bd-46be-d53e-f7f8cf30f8c8"
      },
      "source": [
        "datos.fecha_toma_muestra.value_counts().tail()"
      ],
      "execution_count": 56,
      "outputs": [
        {
          "output_type": "execute_result",
          "data": {
            "text/plain": [
              "2020-02-15    1\n",
              "2020-02-29    1\n",
              "2020-02-13    1\n",
              "2020-01-25    1\n",
              "2020-02-23    1\n",
              "Name: fecha_toma_muestra, dtype: int64"
            ]
          },
          "metadata": {
            "tags": []
          },
          "execution_count": 56
        }
      ]
    },
    {
      "cell_type": "code",
      "metadata": {
        "colab": {
          "base_uri": "https://localhost:8080/"
        },
        "id": "T0EpOnqxS5GD",
        "outputId": "459a2653-6ad6-4170-cac7-f20c93d59d15"
      },
      "source": [
        "# Para ver en que rango cubre este dataset\n",
        "print(datos['fecha_toma_muestra'].min())   # guarda 1974?  posible error de tipeo Outlier\n",
        "print(datos['fecha_toma_muestra'].max())\n",
        "\n",
        "# Boxplot \n",
        "\n",
        "# Probando si  compara fech\n",
        "datos.fecha_toma_muestra.describe()\n"
      ],
      "execution_count": 57,
      "outputs": [
        {
          "output_type": "stream",
          "text": [
            "1974-11-09 00:00:00\n",
            "2021-05-27 00:00:00\n"
          ],
          "name": "stdout"
        },
        {
          "output_type": "stream",
          "text": [
            "/usr/local/lib/python3.7/dist-packages/ipykernel_launcher.py:8: FutureWarning: Treating datetime data as categorical rather than numeric in `.describe` is deprecated and will be removed in a future version of pandas. Specify `datetime_is_numeric=True` to silence this warning and adopt the future behavior now.\n",
            "  \n"
          ],
          "name": "stderr"
        },
        {
          "output_type": "execute_result",
          "data": {
            "text/plain": [
              "count                 2523273\n",
              "unique                    520\n",
              "top       2021-05-20 00:00:00\n",
              "freq                    21714\n",
              "first     1974-11-09 00:00:00\n",
              "last      2021-05-27 00:00:00\n",
              "Name: fecha_toma_muestra, dtype: object"
            ]
          },
          "metadata": {
            "tags": []
          },
          "execution_count": 57
        }
      ]
    },
    {
      "cell_type": "code",
      "metadata": {
        "colab": {
          "base_uri": "https://localhost:8080/"
        },
        "id": "omad6aM0_4Af",
        "outputId": "113c4822-ced6-417c-ab73-091c645044a7"
      },
      "source": [
        "# datos.fecha_fallecimiento[0]   # los NaN los transforma a NaT\n",
        "# datos.fecha_fallecimiento.value_counts()\n"
      ],
      "execution_count": 61,
      "outputs": [
        {
          "output_type": "execute_result",
          "data": {
            "text/plain": [
              "NaT"
            ]
          },
          "metadata": {
            "tags": []
          },
          "execution_count": 61
        }
      ]
    },
    {
      "cell_type": "code",
      "metadata": {
        "colab": {
          "base_uri": "https://localhost:8080/"
        },
        "id": "HAREC9Y2-ziP",
        "outputId": "92e4733c-b5bf-4e4f-d597-8f77d8676bca"
      },
      "source": [
        "# datos.fecha_fallecimiento.dropna()  # inplace me lo remplaza"
      ],
      "execution_count": 66,
      "outputs": [
        {
          "output_type": "execute_result",
          "data": {
            "text/plain": [
              "258       2020-09-21\n",
              "845       2021-05-15\n",
              "1579      2020-11-16\n",
              "2881      2021-05-01\n",
              "3147      2021-04-21\n",
              "             ...    \n",
              "2528261   2021-05-12\n",
              "2528534   2021-05-08\n",
              "2528537   2021-05-13\n",
              "2528538   2021-05-04\n",
              "2528830   2020-12-25\n",
              "Name: fecha_fallecimiento, Length: 14743, dtype: datetime64[ns]"
            ]
          },
          "metadata": {
            "tags": []
          },
          "execution_count": 66
        }
      ]
    },
    {
      "cell_type": "code",
      "metadata": {
        "colab": {
          "base_uri": "https://localhost:8080/"
        },
        "id": "s_CjDXJuCFMF",
        "outputId": "769d3b93-e8ea-4957-c977-fedde17d7555"
      },
      "source": [
        "datos.edad.value_counts().tail(30).sum()/len(datos.edad) # ver criterio de edad para tirar"
      ],
      "execution_count": 88,
      "outputs": [
        {
          "output_type": "execute_result",
          "data": {
            "text/plain": [
              "0.004695187373489353"
            ]
          },
          "metadata": {
            "tags": []
          },
          "execution_count": 88
        }
      ]
    },
    {
      "cell_type": "code",
      "metadata": {
        "id": "lhVMjsflACl_"
      },
      "source": [
        "datos = datos[datos.fecha_toma_muestra > \"2020-03-01\"]  #buscar fecha de inicio de testeos masivos\n",
        "# datos[datos.fecha_toma_muestra == \"2020-03-01\"]\n"
      ],
      "execution_count": 71,
      "outputs": []
    },
    {
      "cell_type": "code",
      "metadata": {
        "colab": {
          "base_uri": "https://localhost:8080/"
        },
        "id": "JG2FvmvZBLwr",
        "outputId": "aa5abcc8-1b46-42b2-9b7d-7121ca9fedc3"
      },
      "source": [
        "datos.edad.describe()"
      ],
      "execution_count": 85,
      "outputs": [
        {
          "output_type": "execute_result",
          "data": {
            "text/plain": [
              "count   2522450.00\n",
              "mean         39.31\n",
              "std          18.59\n",
              "min         -10.00\n",
              "25%          26.00\n",
              "50%          37.00\n",
              "75%          51.00\n",
              "max         221.00\n",
              "Name: edad, dtype: float64"
            ]
          },
          "metadata": {
            "tags": []
          },
          "execution_count": 85
        }
      ]
    },
    {
      "cell_type": "code",
      "metadata": {
        "id": "gffHEdAfDxK5"
      },
      "source": [
        "datos.edad[datos]"
      ],
      "execution_count": null,
      "outputs": []
    },
    {
      "cell_type": "code",
      "metadata": {
        "colab": {
          "base_uri": "https://localhost:8080/",
          "height": 555
        },
        "id": "xjhvFi68A2qR",
        "outputId": "78f88b66-40bc-4d59-fa6d-2808a7638386"
      },
      "source": [
        "print(f'Los tipos de contagio son {df.tipo_contagio.unique()}')\n",
        "df.groupby(['tipo_contagio', 'provincia']).count()  # duda"
      ],
      "execution_count": 14,
      "outputs": [
        {
          "output_type": "stream",
          "text": [
            "Los tipos de contagio son ['En Investigación' 'Comunitario' 'Contacto' 'Trabajador de la Salud' nan\n",
            " 'Importado']\n"
          ],
          "name": "stdout"
        },
        {
          "output_type": "execute_result",
          "data": {
            "text/html": [
              "<div>\n",
              "<style scoped>\n",
              "    .dataframe tbody tr th:only-of-type {\n",
              "        vertical-align: middle;\n",
              "    }\n",
              "\n",
              "    .dataframe tbody tr th {\n",
              "        vertical-align: top;\n",
              "    }\n",
              "\n",
              "    .dataframe thead th {\n",
              "        text-align: right;\n",
              "    }\n",
              "</style>\n",
              "<table border=\"1\" class=\"dataframe\">\n",
              "  <thead>\n",
              "    <tr style=\"text-align: right;\">\n",
              "      <th></th>\n",
              "      <th></th>\n",
              "      <th>numero_de_caso</th>\n",
              "      <th>fecha_apertura_snvs</th>\n",
              "      <th>fecha_toma_muestra</th>\n",
              "      <th>fecha_clasificacion</th>\n",
              "      <th>barrio</th>\n",
              "      <th>comuna</th>\n",
              "      <th>genero</th>\n",
              "      <th>edad</th>\n",
              "      <th>clasificacion</th>\n",
              "      <th>fecha_fallecimiento</th>\n",
              "      <th>fallecido</th>\n",
              "      <th>fecha_alta</th>\n",
              "    </tr>\n",
              "    <tr>\n",
              "      <th>tipo_contagio</th>\n",
              "      <th>provincia</th>\n",
              "      <th></th>\n",
              "      <th></th>\n",
              "      <th></th>\n",
              "      <th></th>\n",
              "      <th></th>\n",
              "      <th></th>\n",
              "      <th></th>\n",
              "      <th></th>\n",
              "      <th></th>\n",
              "      <th></th>\n",
              "      <th></th>\n",
              "      <th></th>\n",
              "    </tr>\n",
              "  </thead>\n",
              "  <tbody>\n",
              "    <tr>\n",
              "      <th rowspan=\"5\" valign=\"top\">Comunitario</th>\n",
              "      <th>Buenos Aires</th>\n",
              "      <td>216788</td>\n",
              "      <td>216788</td>\n",
              "      <td>216788</td>\n",
              "      <td>216788</td>\n",
              "      <td>0</td>\n",
              "      <td>0</td>\n",
              "      <td>216788</td>\n",
              "      <td>216774</td>\n",
              "      <td>216788</td>\n",
              "      <td>2129</td>\n",
              "      <td>2129</td>\n",
              "      <td>13120</td>\n",
              "    </tr>\n",
              "    <tr>\n",
              "      <th>CABA</th>\n",
              "      <td>291748</td>\n",
              "      <td>291748</td>\n",
              "      <td>291505</td>\n",
              "      <td>291748</td>\n",
              "      <td>280933</td>\n",
              "      <td>280933</td>\n",
              "      <td>291748</td>\n",
              "      <td>291688</td>\n",
              "      <td>291748</td>\n",
              "      <td>6550</td>\n",
              "      <td>6550</td>\n",
              "      <td>28178</td>\n",
              "    </tr>\n",
              "    <tr>\n",
              "      <th>Catamarca</th>\n",
              "      <td>68</td>\n",
              "      <td>68</td>\n",
              "      <td>68</td>\n",
              "      <td>68</td>\n",
              "      <td>0</td>\n",
              "      <td>0</td>\n",
              "      <td>68</td>\n",
              "      <td>68</td>\n",
              "      <td>68</td>\n",
              "      <td>0</td>\n",
              "      <td>0</td>\n",
              "      <td>2</td>\n",
              "    </tr>\n",
              "    <tr>\n",
              "      <th>Chaco</th>\n",
              "      <td>249</td>\n",
              "      <td>249</td>\n",
              "      <td>249</td>\n",
              "      <td>249</td>\n",
              "      <td>0</td>\n",
              "      <td>0</td>\n",
              "      <td>249</td>\n",
              "      <td>249</td>\n",
              "      <td>249</td>\n",
              "      <td>2</td>\n",
              "      <td>2</td>\n",
              "      <td>8</td>\n",
              "    </tr>\n",
              "    <tr>\n",
              "      <th>Chubut</th>\n",
              "      <td>774</td>\n",
              "      <td>774</td>\n",
              "      <td>774</td>\n",
              "      <td>774</td>\n",
              "      <td>0</td>\n",
              "      <td>0</td>\n",
              "      <td>774</td>\n",
              "      <td>773</td>\n",
              "      <td>774</td>\n",
              "      <td>0</td>\n",
              "      <td>0</td>\n",
              "      <td>12</td>\n",
              "    </tr>\n",
              "    <tr>\n",
              "      <th>...</th>\n",
              "      <th>...</th>\n",
              "      <td>...</td>\n",
              "      <td>...</td>\n",
              "      <td>...</td>\n",
              "      <td>...</td>\n",
              "      <td>...</td>\n",
              "      <td>...</td>\n",
              "      <td>...</td>\n",
              "      <td>...</td>\n",
              "      <td>...</td>\n",
              "      <td>...</td>\n",
              "      <td>...</td>\n",
              "      <td>...</td>\n",
              "    </tr>\n",
              "    <tr>\n",
              "      <th rowspan=\"5\" valign=\"top\">Trabajador de la Salud</th>\n",
              "      <th>San Luis</th>\n",
              "      <td>5</td>\n",
              "      <td>5</td>\n",
              "      <td>5</td>\n",
              "      <td>5</td>\n",
              "      <td>0</td>\n",
              "      <td>0</td>\n",
              "      <td>5</td>\n",
              "      <td>5</td>\n",
              "      <td>5</td>\n",
              "      <td>0</td>\n",
              "      <td>0</td>\n",
              "      <td>0</td>\n",
              "    </tr>\n",
              "    <tr>\n",
              "      <th>Santa Fe</th>\n",
              "      <td>11</td>\n",
              "      <td>11</td>\n",
              "      <td>11</td>\n",
              "      <td>11</td>\n",
              "      <td>0</td>\n",
              "      <td>0</td>\n",
              "      <td>11</td>\n",
              "      <td>11</td>\n",
              "      <td>11</td>\n",
              "      <td>0</td>\n",
              "      <td>0</td>\n",
              "      <td>1</td>\n",
              "    </tr>\n",
              "    <tr>\n",
              "      <th>Santiago del Estero</th>\n",
              "      <td>1</td>\n",
              "      <td>1</td>\n",
              "      <td>1</td>\n",
              "      <td>1</td>\n",
              "      <td>0</td>\n",
              "      <td>0</td>\n",
              "      <td>1</td>\n",
              "      <td>1</td>\n",
              "      <td>1</td>\n",
              "      <td>0</td>\n",
              "      <td>0</td>\n",
              "      <td>0</td>\n",
              "    </tr>\n",
              "    <tr>\n",
              "      <th>Tierra del Fuego</th>\n",
              "      <td>2</td>\n",
              "      <td>2</td>\n",
              "      <td>2</td>\n",
              "      <td>2</td>\n",
              "      <td>0</td>\n",
              "      <td>0</td>\n",
              "      <td>2</td>\n",
              "      <td>2</td>\n",
              "      <td>2</td>\n",
              "      <td>0</td>\n",
              "      <td>0</td>\n",
              "      <td>0</td>\n",
              "    </tr>\n",
              "    <tr>\n",
              "      <th>Tucumán</th>\n",
              "      <td>3</td>\n",
              "      <td>3</td>\n",
              "      <td>3</td>\n",
              "      <td>3</td>\n",
              "      <td>0</td>\n",
              "      <td>0</td>\n",
              "      <td>3</td>\n",
              "      <td>3</td>\n",
              "      <td>3</td>\n",
              "      <td>0</td>\n",
              "      <td>0</td>\n",
              "      <td>0</td>\n",
              "    </tr>\n",
              "  </tbody>\n",
              "</table>\n",
              "<p>100 rows × 12 columns</p>\n",
              "</div>"
            ],
            "text/plain": [
              "                                            numero_de_caso  ...  fecha_alta\n",
              "tipo_contagio          provincia                            ...            \n",
              "Comunitario            Buenos Aires                 216788  ...       13120\n",
              "                       CABA                         291748  ...       28178\n",
              "                       Catamarca                        68  ...           2\n",
              "                       Chaco                           249  ...           8\n",
              "                       Chubut                          774  ...          12\n",
              "...                                                    ...  ...         ...\n",
              "Trabajador de la Salud San Luis                          5  ...           0\n",
              "                       Santa Fe                         11  ...           1\n",
              "                       Santiago del Estero               1  ...           0\n",
              "                       Tierra del Fuego                  2  ...           0\n",
              "                       Tucumán                           3  ...           0\n",
              "\n",
              "[100 rows x 12 columns]"
            ]
          },
          "metadata": {
            "tags": []
          },
          "execution_count": 14
        }
      ]
    },
    {
      "cell_type": "code",
      "metadata": {
        "colab": {
          "base_uri": "https://localhost:8080/"
        },
        "id": "gshBN5JnBI6K",
        "outputId": "34fdd699-a0d0-41f7-cd07-2eb969986bea"
      },
      "source": [
        "print(f'Los genero {df.genero.unique()}')\n",
        "df.groupby('genero').fallecido.count() \n",
        "# agrupo el dataframe por los que tienen mismo genero\n",
        "# me fijo en la columna de fallecidos\n",
        " # nunique cuenta solo los que no son unicos"
      ],
      "execution_count": 15,
      "outputs": [
        {
          "output_type": "stream",
          "text": [
            "Los genero ['masculino' 'femenino' nan]\n"
          ],
          "name": "stdout"
        },
        {
          "output_type": "execute_result",
          "data": {
            "text/plain": [
              "genero\n",
              "femenino     6530\n",
              "masculino    8213\n",
              "Name: fallecido, dtype: int64"
            ]
          },
          "metadata": {
            "tags": []
          },
          "execution_count": 15
        }
      ]
    },
    {
      "cell_type": "code",
      "metadata": {
        "colab": {
          "base_uri": "https://localhost:8080/"
        },
        "id": "RiA7d5ZmcHew",
        "outputId": "7117884e-8c0c-487f-9ca0-46983488ec15"
      },
      "source": [
        "df.comuna.max()"
      ],
      "execution_count": 16,
      "outputs": [
        {
          "output_type": "execute_result",
          "data": {
            "text/plain": [
              "15.0"
            ]
          },
          "metadata": {
            "tags": []
          },
          "execution_count": 16
        }
      ]
    },
    {
      "cell_type": "code",
      "metadata": {
        "colab": {
          "base_uri": "https://localhost:8080/",
          "height": 757
        },
        "id": "p6i0AI4BUCiH",
        "outputId": "66284154-9dcd-4836-b8c4-47adfcba22a5"
      },
      "source": [
        "\n",
        "\n",
        "df_fallecidos = df.dropna(subset=['provincia','fallecido'])\n",
        "\n",
        "print(df_fallecidos)\n",
        "df_caba_fallecidos = df_fallecidos.filter(items= ['provincia','comuna', 'fallecido'])\n",
        "df_caba_fallecidos = df_caba_fallecidos.loc[df['provincia'] == 'CABA']\n",
        "print(df_caba_fallecidos)\n",
        "histograma = df_caba_fallecidos.hist(bins=50)\n",
        "plt.grid()\n",
        "plt.show()"
      ],
      "execution_count": 17,
      "outputs": [
        {
          "output_type": "stream",
          "text": [
            "         numero_de_caso fecha_apertura_snvs  ... fecha_alta     tipo_contagio\n",
            "258             1923369          2020-08-16  ...        NaT       Comunitario\n",
            "845            10519986          2021-04-16  ...        NaT  En Investigación\n",
            "1579            4121135          2020-11-06  ...        NaT       Comunitario\n",
            "2881           10260475          2021-04-12  ...        NaT          Contacto\n",
            "3147            9419363          2021-03-29  ...        NaT       Comunitario\n",
            "...                 ...                 ...  ...        ...               ...\n",
            "2528261        11073768          2021-04-23  ...        NaT  En Investigación\n",
            "2528534        10487055          2021-04-15  ...        NaT          Contacto\n",
            "2528537        11709016          2021-05-04  ...        NaT       Comunitario\n",
            "2528538        11733160          2021-05-04  ...        NaT       Comunitario\n",
            "2528830         5546637          2020-12-23  ...        NaT       Comunitario\n",
            "\n",
            "[14729 rows x 14 columns]\n",
            "        provincia  comuna fallecido\n",
            "845          CABA    10.0        si\n",
            "1579         CABA     9.0        si\n",
            "2881         CABA     1.0        si\n",
            "3410         CABA     8.0        si\n",
            "3658         CABA    11.0        si\n",
            "...           ...     ...       ...\n",
            "2528256      CABA     3.0        si\n",
            "2528261      CABA     4.0        si\n",
            "2528534      CABA    12.0        si\n",
            "2528538      CABA     4.0        si\n",
            "2528830      CABA     9.0        si\n",
            "\n",
            "[11016 rows x 3 columns]\n"
          ],
          "name": "stdout"
        },
        {
          "output_type": "display_data",
          "data": {
            "image/png": "[encoded data removed]",
            "text/plain": [
              "<Figure size 432x288 with 1 Axes>"
            ]
          },
          "metadata": {
            "tags": [],
            "needs_background": "light"
          }
        }
      ]
    },
    {
      "cell_type": "code",
      "metadata": {
        "id": "hZvga-zGYX8N"
      },
      "source": [
        ""
      ],
      "execution_count": 17,
      "outputs": []
    }
  ]
}